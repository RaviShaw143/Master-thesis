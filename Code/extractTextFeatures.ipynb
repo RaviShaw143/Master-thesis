import os
import io
import pandas as pd
from sklearn.feature_extraction.text import TfidfVectorizer

pathToTextFiles = os.path.abspath(os.path.join("Desktop", "Code", "TextFiles"))
list = []

def readFiles(path):
    for root, dirnames, filenames in os.walk(path):
        for filename in filenames:
            file = os.path.join(root, filename)
            addContentOfFileToList(file)
            
        
def addContentOfFileToList(file):
    # Loads the content into list
    with io.open(file, 'r') as text_file:
        content = text_file.read()
        list.append(content)      
        
    
readFiles(pathToTextFiles)
tfidf = TfidfVectorizer(ngram_range = (1,2))
features = tfidf.fit_transform(list)
data = pd.DataFrame(
            features.todense(), 
            columns=tfidf.get_feature_names()
)

#creating a csv file to store the the text features
data.to_csv(r'C:\Users\ravi\Desktop\Code\textFeatures.csv', encoding='utf-8')

        
          
