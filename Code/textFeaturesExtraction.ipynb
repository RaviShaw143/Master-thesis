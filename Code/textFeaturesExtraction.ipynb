import os
import io
import pandas as pd
from natsort import natsorted
from sklearn.feature_extraction.text import TfidfVectorizer

pathToTextFiles = os.path.abspath(os.path.join("TextFiles"))
print(pathToTextFiles)
textData = []
listOfFilesPath = []

def readFiles(path):
    for root, dirnames, filenames in os.walk(path):
        for filename in filenames:
            file = os.path.join(root, filename)
            listOfFilesPath.append(file)
            
        
        
def addContentOfFileToList(file):
    # Loads the content into list
    with io.open(file, 'r') as text_file:
        content = text_file.read()
        textData.append(content)

readFiles(pathToTextFiles)   
listOfFilesPath  = natsorted(listOfFilesPath, key=lambda y: y.lower())

for file in listOfFilesPath:
    addContentOfFileToList(file)
      
tfidf = TfidfVectorizer(ngram_range = (1,2))
features = tfidf.fit_transform(textData)
data = pd.DataFrame(
            features.todense(), 
            columns=tfidf.get_feature_names()
)

#creating a csv file to store the the text features
data.to_csv(r'C:\Users\ravi\Desktop\Code\FinalAudioAndTextFiles\\TextFeatureFiles\tfidfTextFeatures.csv', encoding='utf-8')

        
          
