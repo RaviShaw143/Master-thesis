import io
import os

# Imports the Google Cloud client library
from google.cloud import speech
from google.cloud.speech import enums
from google.cloud.speech import types


# Instantiates a client
client = speech.SpeechClient()

path = os.path.abspath(os.path.join("AudioCropped","test"))
    
def readFiles(path):
    for root, dirnames, filenames in os.walk(path):
        for filename in filenames:
            print(path)
            convertAudioFileToText(root, filename)
            
def convertAudioFileToText(root, filename):
    file = os.path.join(root, filename)
    # Loads the audio into memory
    with io.open(file, 'rb') as audio_file:
        content = audio_file.read()
        audio = types.RecognitionAudio(content=content)
    
    config = types.RecognitionConfig(
        encoding=enums.RecognitionConfig.AudioEncoding.LINEAR16,
        sample_rate_hertz=44100,
		audio_channel_count=2,
        language_code='en-US')
    
    #Split the filename 
    outputFileName = filename.split(".")
    outputFileName = outputFileName[0] + ".txt"
    outputFilePath = os.path.abspath(os.path.join("TextFiles", outputFileName))
    print(outputFilePath)
    # Detects speech in the audio file
    response = client.recognize(config, audio)
    for result in response.results:
        with io.open(outputFilePath, 'w') as output:
            print('Transcript: {}'.format(result.alternatives[0].transcript))
            output.write(format(result.alternatives[0].transcript))

readFiles(path)
